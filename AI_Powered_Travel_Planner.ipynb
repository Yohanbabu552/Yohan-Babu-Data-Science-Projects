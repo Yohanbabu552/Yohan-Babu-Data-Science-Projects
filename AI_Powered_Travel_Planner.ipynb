{
  "nbformat": 4,
  "nbformat_minor": 0,
  "metadata": {
    "colab": {
      "provenance": [],
      "authorship_tag": "ABX9TyM+VYfsx+SayujQ0hAzURO7"
    },
    "kernelspec": {
      "name": "python3",
      "display_name": "Python 3"
    },
    "language_info": {
      "name": "python"
    }
  },
  "cells": [
    {
      "cell_type": "code",
      "execution_count": 1,
      "metadata": {
        "colab": {
          "base_uri": "https://localhost:8080/"
        },
        "id": "PYUNnFIpEcaF",
        "outputId": "0da66aef-df4b-46f7-c78b-d432cfb9627a"
      },
      "outputs": [
        {
          "output_type": "stream",
          "name": "stdout",
          "text": [
            "Collecting streamlit\n",
            "  Downloading streamlit-1.42.2-py2.py3-none-any.whl.metadata (8.9 kB)\n",
            "Requirement already satisfied: altair<6,>=4.0 in /usr/local/lib/python3.11/dist-packages (from streamlit) (5.5.0)\n",
            "Requirement already satisfied: blinker<2,>=1.0.0 in /usr/local/lib/python3.11/dist-packages (from streamlit) (1.9.0)\n",
            "Requirement already satisfied: cachetools<6,>=4.0 in /usr/local/lib/python3.11/dist-packages (from streamlit) (5.5.1)\n",
            "Requirement already satisfied: click<9,>=7.0 in /usr/local/lib/python3.11/dist-packages (from streamlit) (8.1.8)\n",
            "Requirement already satisfied: numpy<3,>=1.23 in /usr/local/lib/python3.11/dist-packages (from streamlit) (1.26.4)\n",
            "Requirement already satisfied: packaging<25,>=20 in /usr/local/lib/python3.11/dist-packages (from streamlit) (24.2)\n",
            "Requirement already satisfied: pandas<3,>=1.4.0 in /usr/local/lib/python3.11/dist-packages (from streamlit) (2.2.2)\n",
            "Requirement already satisfied: pillow<12,>=7.1.0 in /usr/local/lib/python3.11/dist-packages (from streamlit) (11.1.0)\n",
            "Requirement already satisfied: protobuf<6,>=3.20 in /usr/local/lib/python3.11/dist-packages (from streamlit) (4.25.6)\n",
            "Requirement already satisfied: pyarrow>=7.0 in /usr/local/lib/python3.11/dist-packages (from streamlit) (17.0.0)\n",
            "Requirement already satisfied: requests<3,>=2.27 in /usr/local/lib/python3.11/dist-packages (from streamlit) (2.32.3)\n",
            "Requirement already satisfied: rich<14,>=10.14.0 in /usr/local/lib/python3.11/dist-packages (from streamlit) (13.9.4)\n",
            "Requirement already satisfied: tenacity<10,>=8.1.0 in /usr/local/lib/python3.11/dist-packages (from streamlit) (9.0.0)\n",
            "Requirement already satisfied: toml<2,>=0.10.1 in /usr/local/lib/python3.11/dist-packages (from streamlit) (0.10.2)\n",
            "Requirement already satisfied: typing-extensions<5,>=4.4.0 in /usr/local/lib/python3.11/dist-packages (from streamlit) (4.12.2)\n",
            "Collecting watchdog<7,>=2.1.5 (from streamlit)\n",
            "  Downloading watchdog-6.0.0-py3-none-manylinux2014_x86_64.whl.metadata (44 kB)\n",
            "\u001b[2K     \u001b[90m━━━━━━━━━━━━━━━━━━━━━━━━━━━━━━━━━━━━━━━━\u001b[0m \u001b[32m44.3/44.3 kB\u001b[0m \u001b[31m2.1 MB/s\u001b[0m eta \u001b[36m0:00:00\u001b[0m\n",
            "\u001b[?25hRequirement already satisfied: gitpython!=3.1.19,<4,>=3.0.7 in /usr/local/lib/python3.11/dist-packages (from streamlit) (3.1.44)\n",
            "Collecting pydeck<1,>=0.8.0b4 (from streamlit)\n",
            "  Downloading pydeck-0.9.1-py2.py3-none-any.whl.metadata (4.1 kB)\n",
            "Requirement already satisfied: tornado<7,>=6.0.3 in /usr/local/lib/python3.11/dist-packages (from streamlit) (6.4.2)\n",
            "Requirement already satisfied: jinja2 in /usr/local/lib/python3.11/dist-packages (from altair<6,>=4.0->streamlit) (3.1.5)\n",
            "Requirement already satisfied: jsonschema>=3.0 in /usr/local/lib/python3.11/dist-packages (from altair<6,>=4.0->streamlit) (4.23.0)\n",
            "Requirement already satisfied: narwhals>=1.14.2 in /usr/local/lib/python3.11/dist-packages (from altair<6,>=4.0->streamlit) (1.27.1)\n",
            "Requirement already satisfied: gitdb<5,>=4.0.1 in /usr/local/lib/python3.11/dist-packages (from gitpython!=3.1.19,<4,>=3.0.7->streamlit) (4.0.12)\n",
            "Requirement already satisfied: python-dateutil>=2.8.2 in /usr/local/lib/python3.11/dist-packages (from pandas<3,>=1.4.0->streamlit) (2.8.2)\n",
            "Requirement already satisfied: pytz>=2020.1 in /usr/local/lib/python3.11/dist-packages (from pandas<3,>=1.4.0->streamlit) (2025.1)\n",
            "Requirement already satisfied: tzdata>=2022.7 in /usr/local/lib/python3.11/dist-packages (from pandas<3,>=1.4.0->streamlit) (2025.1)\n",
            "Requirement already satisfied: charset-normalizer<4,>=2 in /usr/local/lib/python3.11/dist-packages (from requests<3,>=2.27->streamlit) (3.4.1)\n",
            "Requirement already satisfied: idna<4,>=2.5 in /usr/local/lib/python3.11/dist-packages (from requests<3,>=2.27->streamlit) (3.10)\n",
            "Requirement already satisfied: urllib3<3,>=1.21.1 in /usr/local/lib/python3.11/dist-packages (from requests<3,>=2.27->streamlit) (2.3.0)\n",
            "Requirement already satisfied: certifi>=2017.4.17 in /usr/local/lib/python3.11/dist-packages (from requests<3,>=2.27->streamlit) (2025.1.31)\n",
            "Requirement already satisfied: markdown-it-py>=2.2.0 in /usr/local/lib/python3.11/dist-packages (from rich<14,>=10.14.0->streamlit) (3.0.0)\n",
            "Requirement already satisfied: pygments<3.0.0,>=2.13.0 in /usr/local/lib/python3.11/dist-packages (from rich<14,>=10.14.0->streamlit) (2.18.0)\n",
            "Requirement already satisfied: smmap<6,>=3.0.1 in /usr/local/lib/python3.11/dist-packages (from gitdb<5,>=4.0.1->gitpython!=3.1.19,<4,>=3.0.7->streamlit) (5.0.2)\n",
            "Requirement already satisfied: MarkupSafe>=2.0 in /usr/local/lib/python3.11/dist-packages (from jinja2->altair<6,>=4.0->streamlit) (3.0.2)\n",
            "Requirement already satisfied: attrs>=22.2.0 in /usr/local/lib/python3.11/dist-packages (from jsonschema>=3.0->altair<6,>=4.0->streamlit) (25.1.0)\n",
            "Requirement already satisfied: jsonschema-specifications>=2023.03.6 in /usr/local/lib/python3.11/dist-packages (from jsonschema>=3.0->altair<6,>=4.0->streamlit) (2024.10.1)\n",
            "Requirement already satisfied: referencing>=0.28.4 in /usr/local/lib/python3.11/dist-packages (from jsonschema>=3.0->altair<6,>=4.0->streamlit) (0.36.2)\n",
            "Requirement already satisfied: rpds-py>=0.7.1 in /usr/local/lib/python3.11/dist-packages (from jsonschema>=3.0->altair<6,>=4.0->streamlit) (0.22.3)\n",
            "Requirement already satisfied: mdurl~=0.1 in /usr/local/lib/python3.11/dist-packages (from markdown-it-py>=2.2.0->rich<14,>=10.14.0->streamlit) (0.1.2)\n",
            "Requirement already satisfied: six>=1.5 in /usr/local/lib/python3.11/dist-packages (from python-dateutil>=2.8.2->pandas<3,>=1.4.0->streamlit) (1.17.0)\n",
            "Downloading streamlit-1.42.2-py2.py3-none-any.whl (9.6 MB)\n",
            "\u001b[2K   \u001b[90m━━━━━━━━━━━━━━━━━━━━━━━━━━━━━━━━━━━━━━━━\u001b[0m \u001b[32m9.6/9.6 MB\u001b[0m \u001b[31m39.5 MB/s\u001b[0m eta \u001b[36m0:00:00\u001b[0m\n",
            "\u001b[?25hDownloading pydeck-0.9.1-py2.py3-none-any.whl (6.9 MB)\n",
            "\u001b[2K   \u001b[90m━━━━━━━━━━━━━━━━━━━━━━━━━━━━━━━━━━━━━━━━\u001b[0m \u001b[32m6.9/6.9 MB\u001b[0m \u001b[31m37.6 MB/s\u001b[0m eta \u001b[36m0:00:00\u001b[0m\n",
            "\u001b[?25hDownloading watchdog-6.0.0-py3-none-manylinux2014_x86_64.whl (79 kB)\n",
            "\u001b[2K   \u001b[90m━━━━━━━━━━━━━━━━━━━━━━━━━━━━━━━━━━━━━━━━\u001b[0m \u001b[32m79.1/79.1 kB\u001b[0m \u001b[31m4.0 MB/s\u001b[0m eta \u001b[36m0:00:00\u001b[0m\n",
            "\u001b[?25hInstalling collected packages: watchdog, pydeck, streamlit\n",
            "Successfully installed pydeck-0.9.1 streamlit-1.42.2 watchdog-6.0.0\n"
          ]
        }
      ],
      "source": [
        "!pip install streamlit"
      ]
    },
    {
      "cell_type": "code",
      "source": [
        "!pip install pyngrok"
      ],
      "metadata": {
        "colab": {
          "base_uri": "https://localhost:8080/"
        },
        "id": "YsZRuOLIEvoI",
        "outputId": "ea7416d6-bb55-439f-a55c-10f9acae8847"
      },
      "execution_count": 2,
      "outputs": [
        {
          "output_type": "stream",
          "name": "stdout",
          "text": [
            "Collecting pyngrok\n",
            "  Downloading pyngrok-7.2.3-py3-none-any.whl.metadata (8.7 kB)\n",
            "Requirement already satisfied: PyYAML>=5.1 in /usr/local/lib/python3.11/dist-packages (from pyngrok) (6.0.2)\n",
            "Downloading pyngrok-7.2.3-py3-none-any.whl (23 kB)\n",
            "Installing collected packages: pyngrok\n",
            "Successfully installed pyngrok-7.2.3\n"
          ]
        }
      ]
    },
    {
      "cell_type": "code",
      "source": [
        "! pip install langchain-google-genai"
      ],
      "metadata": {
        "colab": {
          "base_uri": "https://localhost:8080/",
          "height": 1000
        },
        "id": "ac0y-2-rFSZV",
        "outputId": "47395c3d-4f97-40a4-b360-7a7690a9af3c"
      },
      "execution_count": 22,
      "outputs": [
        {
          "output_type": "stream",
          "name": "stdout",
          "text": [
            "Collecting langchain-google-genai\n",
            "  Downloading langchain_google_genai-2.0.11-py3-none-any.whl.metadata (3.6 kB)\n",
            "Collecting filetype<2.0.0,>=1.2.0 (from langchain-google-genai)\n",
            "  Downloading filetype-1.2.0-py2.py3-none-any.whl.metadata (6.5 kB)\n",
            "Collecting google-ai-generativelanguage<0.7.0,>=0.6.16 (from langchain-google-genai)\n",
            "  Downloading google_ai_generativelanguage-0.6.16-py3-none-any.whl.metadata (5.7 kB)\n",
            "Requirement already satisfied: langchain-core<0.4.0,>=0.3.37 in /usr/local/lib/python3.11/dist-packages (from langchain-google-genai) (0.3.40)\n",
            "Requirement already satisfied: pydantic<3,>=2 in /usr/local/lib/python3.11/dist-packages (from langchain-google-genai) (2.10.6)\n",
            "Requirement already satisfied: google-api-core!=2.0.*,!=2.1.*,!=2.10.*,!=2.2.*,!=2.3.*,!=2.4.*,!=2.5.*,!=2.6.*,!=2.7.*,!=2.8.*,!=2.9.*,<3.0.0dev,>=1.34.1 in /usr/local/lib/python3.11/dist-packages (from google-api-core[grpc]!=2.0.*,!=2.1.*,!=2.10.*,!=2.2.*,!=2.3.*,!=2.4.*,!=2.5.*,!=2.6.*,!=2.7.*,!=2.8.*,!=2.9.*,<3.0.0dev,>=1.34.1->google-ai-generativelanguage<0.7.0,>=0.6.16->langchain-google-genai) (2.24.1)\n",
            "Requirement already satisfied: google-auth!=2.24.0,!=2.25.0,<3.0.0dev,>=2.14.1 in /usr/local/lib/python3.11/dist-packages (from google-ai-generativelanguage<0.7.0,>=0.6.16->langchain-google-genai) (2.27.0)\n",
            "Requirement already satisfied: proto-plus<2.0.0dev,>=1.22.3 in /usr/local/lib/python3.11/dist-packages (from google-ai-generativelanguage<0.7.0,>=0.6.16->langchain-google-genai) (1.26.0)\n",
            "Requirement already satisfied: protobuf!=4.21.0,!=4.21.1,!=4.21.2,!=4.21.3,!=4.21.4,!=4.21.5,<6.0.0dev,>=3.20.2 in /usr/local/lib/python3.11/dist-packages (from google-ai-generativelanguage<0.7.0,>=0.6.16->langchain-google-genai) (4.25.6)\n",
            "Requirement already satisfied: langsmith<0.4,>=0.1.125 in /usr/local/lib/python3.11/dist-packages (from langchain-core<0.4.0,>=0.3.37->langchain-google-genai) (0.3.8)\n",
            "Requirement already satisfied: tenacity!=8.4.0,<10.0.0,>=8.1.0 in /usr/local/lib/python3.11/dist-packages (from langchain-core<0.4.0,>=0.3.37->langchain-google-genai) (9.0.0)\n",
            "Requirement already satisfied: jsonpatch<2.0,>=1.33 in /usr/local/lib/python3.11/dist-packages (from langchain-core<0.4.0,>=0.3.37->langchain-google-genai) (1.33)\n",
            "Requirement already satisfied: PyYAML>=5.3 in /usr/local/lib/python3.11/dist-packages (from langchain-core<0.4.0,>=0.3.37->langchain-google-genai) (6.0.2)\n",
            "Requirement already satisfied: packaging<25,>=23.2 in /usr/local/lib/python3.11/dist-packages (from langchain-core<0.4.0,>=0.3.37->langchain-google-genai) (24.2)\n",
            "Requirement already satisfied: typing-extensions>=4.7 in /usr/local/lib/python3.11/dist-packages (from langchain-core<0.4.0,>=0.3.37->langchain-google-genai) (4.12.2)\n",
            "Requirement already satisfied: annotated-types>=0.6.0 in /usr/local/lib/python3.11/dist-packages (from pydantic<3,>=2->langchain-google-genai) (0.7.0)\n",
            "Requirement already satisfied: pydantic-core==2.27.2 in /usr/local/lib/python3.11/dist-packages (from pydantic<3,>=2->langchain-google-genai) (2.27.2)\n",
            "Requirement already satisfied: googleapis-common-protos<2.0.dev0,>=1.56.2 in /usr/local/lib/python3.11/dist-packages (from google-api-core!=2.0.*,!=2.1.*,!=2.10.*,!=2.2.*,!=2.3.*,!=2.4.*,!=2.5.*,!=2.6.*,!=2.7.*,!=2.8.*,!=2.9.*,<3.0.0dev,>=1.34.1->google-api-core[grpc]!=2.0.*,!=2.1.*,!=2.10.*,!=2.2.*,!=2.3.*,!=2.4.*,!=2.5.*,!=2.6.*,!=2.7.*,!=2.8.*,!=2.9.*,<3.0.0dev,>=1.34.1->google-ai-generativelanguage<0.7.0,>=0.6.16->langchain-google-genai) (1.67.0)\n",
            "Requirement already satisfied: requests<3.0.0.dev0,>=2.18.0 in /usr/local/lib/python3.11/dist-packages (from google-api-core!=2.0.*,!=2.1.*,!=2.10.*,!=2.2.*,!=2.3.*,!=2.4.*,!=2.5.*,!=2.6.*,!=2.7.*,!=2.8.*,!=2.9.*,<3.0.0dev,>=1.34.1->google-api-core[grpc]!=2.0.*,!=2.1.*,!=2.10.*,!=2.2.*,!=2.3.*,!=2.4.*,!=2.5.*,!=2.6.*,!=2.7.*,!=2.8.*,!=2.9.*,<3.0.0dev,>=1.34.1->google-ai-generativelanguage<0.7.0,>=0.6.16->langchain-google-genai) (2.32.3)\n",
            "Requirement already satisfied: grpcio<2.0dev,>=1.33.2 in /usr/local/lib/python3.11/dist-packages (from google-api-core[grpc]!=2.0.*,!=2.1.*,!=2.10.*,!=2.2.*,!=2.3.*,!=2.4.*,!=2.5.*,!=2.6.*,!=2.7.*,!=2.8.*,!=2.9.*,<3.0.0dev,>=1.34.1->google-ai-generativelanguage<0.7.0,>=0.6.16->langchain-google-genai) (1.70.0)\n",
            "Requirement already satisfied: grpcio-status<2.0.dev0,>=1.33.2 in /usr/local/lib/python3.11/dist-packages (from google-api-core[grpc]!=2.0.*,!=2.1.*,!=2.10.*,!=2.2.*,!=2.3.*,!=2.4.*,!=2.5.*,!=2.6.*,!=2.7.*,!=2.8.*,!=2.9.*,<3.0.0dev,>=1.34.1->google-ai-generativelanguage<0.7.0,>=0.6.16->langchain-google-genai) (1.62.3)\n",
            "Requirement already satisfied: cachetools<6.0,>=2.0.0 in /usr/local/lib/python3.11/dist-packages (from google-auth!=2.24.0,!=2.25.0,<3.0.0dev,>=2.14.1->google-ai-generativelanguage<0.7.0,>=0.6.16->langchain-google-genai) (5.5.1)\n",
            "Requirement already satisfied: pyasn1-modules>=0.2.1 in /usr/local/lib/python3.11/dist-packages (from google-auth!=2.24.0,!=2.25.0,<3.0.0dev,>=2.14.1->google-ai-generativelanguage<0.7.0,>=0.6.16->langchain-google-genai) (0.4.1)\n",
            "Requirement already satisfied: rsa<5,>=3.1.4 in /usr/local/lib/python3.11/dist-packages (from google-auth!=2.24.0,!=2.25.0,<3.0.0dev,>=2.14.1->google-ai-generativelanguage<0.7.0,>=0.6.16->langchain-google-genai) (4.9)\n",
            "Requirement already satisfied: jsonpointer>=1.9 in /usr/local/lib/python3.11/dist-packages (from jsonpatch<2.0,>=1.33->langchain-core<0.4.0,>=0.3.37->langchain-google-genai) (3.0.0)\n",
            "Requirement already satisfied: httpx<1,>=0.23.0 in /usr/local/lib/python3.11/dist-packages (from langsmith<0.4,>=0.1.125->langchain-core<0.4.0,>=0.3.37->langchain-google-genai) (0.28.1)\n",
            "Requirement already satisfied: orjson<4.0.0,>=3.9.14 in /usr/local/lib/python3.11/dist-packages (from langsmith<0.4,>=0.1.125->langchain-core<0.4.0,>=0.3.37->langchain-google-genai) (3.10.15)\n",
            "Requirement already satisfied: requests-toolbelt<2.0.0,>=1.0.0 in /usr/local/lib/python3.11/dist-packages (from langsmith<0.4,>=0.1.125->langchain-core<0.4.0,>=0.3.37->langchain-google-genai) (1.0.0)\n",
            "Requirement already satisfied: zstandard<0.24.0,>=0.23.0 in /usr/local/lib/python3.11/dist-packages (from langsmith<0.4,>=0.1.125->langchain-core<0.4.0,>=0.3.37->langchain-google-genai) (0.23.0)\n",
            "Requirement already satisfied: anyio in /usr/local/lib/python3.11/dist-packages (from httpx<1,>=0.23.0->langsmith<0.4,>=0.1.125->langchain-core<0.4.0,>=0.3.37->langchain-google-genai) (3.7.1)\n",
            "Requirement already satisfied: certifi in /usr/local/lib/python3.11/dist-packages (from httpx<1,>=0.23.0->langsmith<0.4,>=0.1.125->langchain-core<0.4.0,>=0.3.37->langchain-google-genai) (2025.1.31)\n",
            "Requirement already satisfied: httpcore==1.* in /usr/local/lib/python3.11/dist-packages (from httpx<1,>=0.23.0->langsmith<0.4,>=0.1.125->langchain-core<0.4.0,>=0.3.37->langchain-google-genai) (1.0.7)\n",
            "Requirement already satisfied: idna in /usr/local/lib/python3.11/dist-packages (from httpx<1,>=0.23.0->langsmith<0.4,>=0.1.125->langchain-core<0.4.0,>=0.3.37->langchain-google-genai) (3.10)\n",
            "Requirement already satisfied: h11<0.15,>=0.13 in /usr/local/lib/python3.11/dist-packages (from httpcore==1.*->httpx<1,>=0.23.0->langsmith<0.4,>=0.1.125->langchain-core<0.4.0,>=0.3.37->langchain-google-genai) (0.14.0)\n",
            "Requirement already satisfied: pyasn1<0.7.0,>=0.4.6 in /usr/local/lib/python3.11/dist-packages (from pyasn1-modules>=0.2.1->google-auth!=2.24.0,!=2.25.0,<3.0.0dev,>=2.14.1->google-ai-generativelanguage<0.7.0,>=0.6.16->langchain-google-genai) (0.6.1)\n",
            "Requirement already satisfied: charset-normalizer<4,>=2 in /usr/local/lib/python3.11/dist-packages (from requests<3.0.0.dev0,>=2.18.0->google-api-core!=2.0.*,!=2.1.*,!=2.10.*,!=2.2.*,!=2.3.*,!=2.4.*,!=2.5.*,!=2.6.*,!=2.7.*,!=2.8.*,!=2.9.*,<3.0.0dev,>=1.34.1->google-api-core[grpc]!=2.0.*,!=2.1.*,!=2.10.*,!=2.2.*,!=2.3.*,!=2.4.*,!=2.5.*,!=2.6.*,!=2.7.*,!=2.8.*,!=2.9.*,<3.0.0dev,>=1.34.1->google-ai-generativelanguage<0.7.0,>=0.6.16->langchain-google-genai) (3.4.1)\n",
            "Requirement already satisfied: urllib3<3,>=1.21.1 in /usr/local/lib/python3.11/dist-packages (from requests<3.0.0.dev0,>=2.18.0->google-api-core!=2.0.*,!=2.1.*,!=2.10.*,!=2.2.*,!=2.3.*,!=2.4.*,!=2.5.*,!=2.6.*,!=2.7.*,!=2.8.*,!=2.9.*,<3.0.0dev,>=1.34.1->google-api-core[grpc]!=2.0.*,!=2.1.*,!=2.10.*,!=2.2.*,!=2.3.*,!=2.4.*,!=2.5.*,!=2.6.*,!=2.7.*,!=2.8.*,!=2.9.*,<3.0.0dev,>=1.34.1->google-ai-generativelanguage<0.7.0,>=0.6.16->langchain-google-genai) (2.3.0)\n",
            "Requirement already satisfied: sniffio>=1.1 in /usr/local/lib/python3.11/dist-packages (from anyio->httpx<1,>=0.23.0->langsmith<0.4,>=0.1.125->langchain-core<0.4.0,>=0.3.37->langchain-google-genai) (1.3.1)\n",
            "Downloading langchain_google_genai-2.0.11-py3-none-any.whl (39 kB)\n",
            "Downloading filetype-1.2.0-py2.py3-none-any.whl (19 kB)\n",
            "Downloading google_ai_generativelanguage-0.6.16-py3-none-any.whl (1.4 MB)\n",
            "\u001b[2K   \u001b[90m━━━━━━━━━━━━━━━━━━━━━━━━━━━━━━━━━━━━━━━━\u001b[0m \u001b[32m1.4/1.4 MB\u001b[0m \u001b[31m53.2 MB/s\u001b[0m eta \u001b[36m0:00:00\u001b[0m\n",
            "\u001b[?25hInstalling collected packages: filetype, google-ai-generativelanguage, langchain-google-genai\n",
            "  Attempting uninstall: google-ai-generativelanguage\n",
            "    Found existing installation: google-ai-generativelanguage 0.6.15\n",
            "    Uninstalling google-ai-generativelanguage-0.6.15:\n",
            "      Successfully uninstalled google-ai-generativelanguage-0.6.15\n",
            "\u001b[31mERROR: pip's dependency resolver does not currently take into account all the packages that are installed. This behaviour is the source of the following dependency conflicts.\n",
            "google-generativeai 0.8.4 requires google-ai-generativelanguage==0.6.15, but you have google-ai-generativelanguage 0.6.16 which is incompatible.\u001b[0m\u001b[31m\n",
            "\u001b[0mSuccessfully installed filetype-1.2.0 google-ai-generativelanguage-0.6.16 langchain-google-genai-2.0.11\n"
          ]
        },
        {
          "output_type": "display_data",
          "data": {
            "application/vnd.colab-display-data+json": {
              "pip_warning": {
                "packages": [
                  "google"
                ]
              },
              "id": "64ccc9b8b0154113b69d0293aad1d5f1"
            }
          },
          "metadata": {}
        }
      ]
    },
    {
      "cell_type": "code",
      "source": [
        "from langchain_google_genai import ChatGoogleGenerativeAI\n",
        "f = open('/content/gemini.txt')\n",
        "GOOGLE_API_KEY = f.read()"
      ],
      "metadata": {
        "id": "RI7V0BlxFhEE"
      },
      "execution_count": 24,
      "outputs": []
    },
    {
      "cell_type": "markdown",
      "source": [
        "Prompt Template\n"
      ],
      "metadata": {
        "id": "tFYAspnuLaaG"
      }
    },
    {
      "cell_type": "code",
      "source": [
        "from langchain_core.prompts import ChatPromptTemplate\n",
        "\n",
        "\n",
        "prompt_template = ChatPromptTemplate.from_messages([\n",
        "    (\"system\", \"You are an AI-powered travel assistant that provides optimal travel recommendations, including flights, buses, trains, and cab options, along with estimated costs and travel times.\"),\n",
        "    (\"human\", \"I want to travel from {source} to {destination}. What are my best travel options?\"),\n",
        "])\n",
        "\n",
        "prompt_template\n"
      ],
      "metadata": {
        "colab": {
          "base_uri": "https://localhost:8080/"
        },
        "id": "i2oQv1mnK4O6",
        "outputId": "4afd3f04-97cc-403c-f0f8-d2590ad5a9d2"
      },
      "execution_count": 26,
      "outputs": [
        {
          "output_type": "execute_result",
          "data": {
            "text/plain": [
              "ChatPromptTemplate(input_variables=['destination', 'source'], input_types={}, partial_variables={}, messages=[SystemMessagePromptTemplate(prompt=PromptTemplate(input_variables=[], input_types={}, partial_variables={}, template='You are an AI-powered travel assistant that provides optimal travel recommendations, including flights, buses, trains, and cab options, along with estimated costs and travel times.'), additional_kwargs={}), HumanMessagePromptTemplate(prompt=PromptTemplate(input_variables=['destination', 'source'], input_types={}, partial_variables={}, template='I want to travel from {source} to {destination}. What are my best travel options?'), additional_kwargs={})])"
            ]
          },
          "metadata": {},
          "execution_count": 26
        }
      ]
    },
    {
      "cell_type": "markdown",
      "source": [
        "Model\n"
      ],
      "metadata": {
        "id": "PPksZvt0Pzbr"
      }
    },
    {
      "cell_type": "code",
      "source": [
        "chat_model = ChatGoogleGenerativeAI(api_key=GOOGLE_API_KEY, model=\"gemini-2.0-flash-exp\", temperature=1)"
      ],
      "metadata": {
        "id": "r0jGYYNoPxxZ"
      },
      "execution_count": 25,
      "outputs": []
    },
    {
      "cell_type": "markdown",
      "source": [
        "Parser"
      ],
      "metadata": {
        "id": "XxHk1IXIYhrH"
      }
    },
    {
      "cell_type": "code",
      "source": [
        "from langchain_core.output_parsers import StrOutputParser\n",
        "\n",
        "output_parser = StrOutputParser()"
      ],
      "metadata": {
        "id": "10Wd0i0-UGo4"
      },
      "execution_count": 27,
      "outputs": []
    },
    {
      "cell_type": "code",
      "source": [
        "chain = prompt_template | chat_model | output_parser\n",
        "\n",
        "raw_input = {\"source\": \"Hyderabad\", \"destination\": \"Banglore\"}\n",
        "\n",
        "response=chain.invoke(raw_input)\n",
        "print(response)"
      ],
      "metadata": {
        "colab": {
          "base_uri": "https://localhost:8080/"
        },
        "id": "nvP6HusnUQiW",
        "outputId": "1445ef01-6254-4c13-9760-9d3bc35686d9"
      },
      "execution_count": 29,
      "outputs": [
        {
          "output_type": "stream",
          "name": "stdout",
          "text": [
            "Okay, I can help you with the best travel options from Hyderabad to Bangalore. Here's a breakdown of your choices, including estimated costs and travel times:\n",
            "\n",
            "**1. Flights:**\n",
            "\n",
            "*   **Pros:** Fastest option. Many daily flights are available.\n",
            "*   **Cons:** Can be the most expensive, and prices fluctuate significantly based on booking time and demand. You also need to factor in travel time to and from the airports.\n",
            "*   **Airlines:** IndiGo, SpiceJet, Air India, Akasa Air.\n",
            "*   **Estimated Flight Time:** 1 hour 15 minutes to 1 hour 30 minutes.\n",
            "*   **Estimated Cost:** ₹2,500 - ₹7,000+ (depending on airline, time of booking, and season).\n",
            "*   **Overall Travel Time (including airport transfers and security):** 3.5 - 4.5 hours.\n",
            "\n",
            "**2. Trains:**\n",
            "\n",
            "*   **Pros:** Generally more comfortable than buses. Can be a good balance of cost and time. Scenic views possible.\n",
            "*   **Cons:** Can get booked up well in advance, especially on popular routes.\n",
            "*   **Popular Trains:**\n",
            "    *   12785 KCG SBC EXP\n",
            "    *   12708 NZM SBC EXP\n",
            "    *   12650 YPR Sampark Kranti\n",
            "*   **Estimated Train Time:** 8 - 12 hours (depending on the specific train and route).\n",
            "*   **Estimated Cost:**\n",
            "    *   Sleeper Class: ₹400 - ₹600\n",
            "    *   3rd AC: ₹1000 - ₹1500\n",
            "    *   2nd AC: ₹1500 - ₹2200\n",
            "    *   1st AC: ₹2500 - ₹3500\n",
            "*   **Overall Travel Time (including travel to/from stations):** 9 - 13 hours.\n",
            "\n",
            "**3. Buses:**\n",
            "\n",
            "*   **Pros:** Generally the most economical option. Many operators and departure times available.\n",
            "*   **Cons:** Can be less comfortable than trains or flights, especially on overnight journeys. Traffic can significantly impact travel time.\n",
            "*   **Operators:** Orange Tours, VRL Travels, SRS Travels, Kallada Travels, Jabbar Travels.\n",
            "*   **Types:** Sleeper, Semi-Sleeper, AC, Non-AC.\n",
            "*   **Estimated Bus Time:** 8 - 12 hours (can vary significantly based on traffic).\n",
            "*   **Estimated Cost:** ₹800 - ₹2500 (depending on the bus type and operator).\n",
            "*   **Overall Travel Time:** 8 - 12+ hours.\n",
            "\n",
            "**4. Cab/Taxi:**\n",
            "\n",
            "*   **Pros:** Door-to-door service, offering maximum convenience and privacy.\n",
            "*   **Cons:** Most expensive option. Can be tiring for long journeys.\n",
            "*   **Estimated Travel Time:** 8-10 hours (depending on traffic and breaks).\n",
            "*   **Estimated Cost:** ₹8,000 - ₹12,000+ (depending on the vehicle type and operator).\n",
            "*   **Suitable for:** Those prioritizing convenience and willing to pay a premium.\n",
            "\n",
            "**Summary Table:**\n",
            "\n",
            "| Mode of Transport | Estimated Travel Time | Estimated Cost | Pros | Cons |\n",
            "|---|---|---|---|---|\n",
            "| Flight | 3.5 - 4.5 hours | ₹2,500 - ₹7,000+ | Fastest | Most expensive, airport transfers needed |\n",
            "| Train | 9 - 13 hours | ₹400 - ₹3500 | Comfortable, good balance of cost and time | Can get booked up, travel to/from stations |\n",
            "| Bus | 8 - 12+ hours | ₹800 - ₹2500 | Economical, many options | Less comfortable, traffic dependent |\n",
            "| Cab | 8-10 hours | ₹8,000 - ₹12,000+ | Door-to-door, convenient | Most expensive, tiring |\n",
            "\n",
            "**Recommendations:**\n",
            "\n",
            "*   **For speed:** Flight is the best option if budget is not a major concern.\n",
            "*   **For a balance of cost and comfort:** Train is a good choice, but book in advance.\n",
            "*   **For budget travel:** Bus is the most economical, but be prepared for a longer and potentially less comfortable journey.\n",
            "*   **For maximum convenience (at a high cost):** Cab is the way to go.\n",
            "\n",
            "**How to Book:**\n",
            "\n",
            "*   **Flights:** Use websites like Google Flights, MakeMyTrip, Goibibo, Skyscanner, etc.\n",
            "*   **Trains:** IRCTC website/app.\n",
            "*   **Buses:** RedBus, AbhiBus, Paytm.\n",
            "*   **Cabs:** Ola, Uber, Savaari.\n",
            "\n",
            "To provide a more tailored recommendation, could you tell me:\n",
            "\n",
            "*   **What is your budget?**\n",
            "*   **What are your preferred travel dates?**\n",
            "*   **What is your priority (speed, cost, comfort)?**\n"
          ]
        }
      ]
    },
    {
      "cell_type": "code",
      "source": [
        "%%writefile app.py\n",
        "import streamlit as st\n",
        "from langchain_google_genai import ChatGoogleGenerativeAI\n",
        "f = open('/content/gemini.txt')\n",
        "GOOGLE_API_KEY = f.read()\n",
        "from langchain_core.prompts import ChatPromptTemplate\n",
        "\n",
        "\n",
        "prompt_template = ChatPromptTemplate.from_messages([\n",
        "    (\"system\", \"You are an AI-powered travel assistant that provides optimal travel recommendations, including flights, buses, trains, and cab options, along with estimated costs and travel times.\"),\n",
        "    (\"human\", \"I want to travel from {source} to {destination}. What are my best travel options?\"),\n",
        "])\n",
        "chat_model = ChatGoogleGenerativeAI(api_key=GOOGLE_API_KEY, model=\"gemini-2.0-flash-exp\")\n",
        "from langchain_core.output_parsers import StrOutputParser\n",
        "\n",
        "output_parser = StrOutputParser()\n",
        "chain = prompt_template | chat_model | output_parser\n",
        "\n",
        "raw_input = {\"source\": \"Hyderabad\", \"destination\": \"Banglore\"}\n",
        "\n",
        "response=chain.invoke(raw_input)\n",
        "print(response)\n",
        "# Streamlit App UI\n",
        "st.title(\"🌍 AI-Powered Travel Planner\")\n",
        "\n",
        "source = st.text_input(\"Enter Source Location\")\n",
        "destination = st.text_input(\"Enter Destination Location\")\n",
        "\n",
        "if st.button(\"Get Travel Options\"):\n",
        "    if source and destination:\n",
        "        try:\n",
        "            raw_input = {\"source\": source, \"destination\": destination}\n",
        "            response = chain.invoke(raw_input)\n",
        "            st.success(\"✅ Travel Options:\")\n",
        "            st.write(response)\n",
        "        except Exception as e:\n",
        "            st.error(f\"❌ Error: {e}\")\n",
        "    else:\n",
        "        st.warning(\"⚠️ Please enter both source and destination!\")"
      ],
      "metadata": {
        "colab": {
          "base_uri": "https://localhost:8080/"
        },
        "id": "amv8kMxVVB64",
        "outputId": "1ef4c70f-eb66-4ec8-b4ff-16dc42aaa5c0"
      },
      "execution_count": 65,
      "outputs": [
        {
          "output_type": "stream",
          "name": "stdout",
          "text": [
            "Overwriting app.py\n"
          ]
        }
      ]
    },
    {
      "cell_type": "code",
      "source": [
        "!wget -q -O - ipv4.icanhazip.com"
      ],
      "metadata": {
        "colab": {
          "base_uri": "https://localhost:8080/"
        },
        "id": "_tbkEWZXd4O5",
        "outputId": "8d0dd51c-50c2-47ae-9f73-da65564f89a1"
      },
      "execution_count": 68,
      "outputs": [
        {
          "output_type": "stream",
          "name": "stdout",
          "text": [
            "35.221.34.152\n"
          ]
        }
      ]
    },
    {
      "cell_type": "code",
      "source": [
        "!streamlit run /content/app.py & npx localtunnel --port 8501"
      ],
      "metadata": {
        "colab": {
          "base_uri": "https://localhost:8080/"
        },
        "id": "0cOuaQQvd5qW",
        "outputId": "4e1cd62d-fe95-4247-9526-737822739f87"
      },
      "execution_count": null,
      "outputs": [
        {
          "metadata": {
            "tags": null
          },
          "name": "stdout",
          "output_type": "stream",
          "text": [
            "\n",
            "Collecting usage statistics. To deactivate, set browser.gatherUsageStats to false.\n",
            "\u001b[0m\n",
            "\u001b[1G\u001b[0K⠙\u001b[1G\u001b[0K⠹\u001b[1G\u001b[0K⠸\u001b[1G\u001b[0K⠼\u001b[0m\n",
            "\u001b[34m\u001b[1m  You can now view your Streamlit app in your browser.\u001b[0m\n",
            "\u001b[0m\n",
            "\u001b[34m  Local URL: \u001b[0m\u001b[1mhttp://localhost:8501\u001b[0m\n",
            "\u001b[34m  Network URL: \u001b[0m\u001b[1mhttp://172.28.0.12:8501\u001b[0m\n",
            "\u001b[34m  External URL: \u001b[0m\u001b[1mhttp://35.221.34.152:8501\u001b[0m\n",
            "\u001b[0m\n",
            "\u001b[1G\u001b[0K⠴\u001b[1G\u001b[0K⠦\u001b[1G\u001b[0K⠧\u001b[1G\u001b[0K⠇\u001b[1G\u001b[0K⠏\u001b[1G\u001b[0Kyour url is: https://fine-singers-decide.loca.lt\n",
            "Okay, I can help you with that! Here's a breakdown of your travel options from Hyderabad to Bangalore, considering flights, trains, buses, and cabs, with estimated costs and travel times:\n",
            "\n",
            "**1. Flights:**\n",
            "\n",
            "*   **Pros:** Fastest option.\n",
            "*   **Cons:** Can be the most expensive, prices fluctuate.\n",
            "*   **Airlines:** IndiGo, SpiceJet, Air India, Akasa Air\n",
            "*   **Travel Time:** 1 hour 15 minutes (approximate flight time) + travel to/from airports + check-in time (allow at least 2-3 hours total).\n",
            "*   **Estimated Cost:** ₹2,500 - ₹7,000 or more depending on the airline, time of booking, and demand.\n",
            "\n",
            "**Recommendation:** Book in advance (2-4 weeks) for the best deals. Check prices on multiple websites (Google Flights, MakeMyTrip, GoIbibo, etc.). Consider early morning or late-night flights for potentially lower fares.\n",
            "\n",
            "**2. Trains:**\n",
            "\n",
            "*   **Pros:** Generally more comfortable than buses, can be scenic. Good if you book in advance.\n",
            "*   **Cons:** Can be time-consuming, booking in advance is crucial, especially for popular trains.\n",
            "*   **Popular Trains:**\n",
            "    *   Kacheguda Yesvantpur Express (12785)\n",
            "    *   Kongu Express (12648)\n",
            "    *   Rajdhani Express (22692)\n",
            "*   **Travel Time:** 8-12 hours (depending on the train).\n",
            "*   **Estimated Cost:**\n",
            "    *   Sleeper Class: ₹400 - ₹600\n",
            "    *   3AC: ₹1000 - ₹1500\n",
            "    *   2AC: ₹1500 - ₹2200\n",
            "    *   1AC: ₹2500 - ₹3500\n",
            "\n",
            "**Recommendation:** Check availability and book tickets through the IRCTC website ([https://www.irctc.co.in/](https://www.irctc.co.in/)). Book as far in advance as possible (120 days). Consider the train schedule and arrival time in Bangalore.\n",
            "\n",
            "**3. Buses:**\n",
            "\n",
            "*   **Pros:** Relatively affordable, frequent departures.\n",
            "*   **Cons:** Can be uncomfortable for long journeys, traffic delays are possible.\n",
            "*   **Operators:** Orange Tours and Travels, SRS Travels, VRL Travels, Morning Star Travels, etc.\n",
            "*   **Types:** Sleeper, Semi-Sleeper, AC, Non-AC.\n",
            "*   **Travel Time:** 8-10 hours (can vary significantly due to traffic).\n",
            "*   **Estimated Cost:** ₹800 - ₹2000 depending on the bus type and operator.\n",
            "\n",
            "**Recommendation:** Book through online bus booking portals like RedBus, AbhiBus, or MakeMyTrip. Choose AC sleeper buses for a more comfortable journey. Check reviews of bus operators before booking.\n",
            "\n",
            "**4. Cabs/Self-Drive:**\n",
            "\n",
            "*   **Pros:** Door-to-door service, flexibility.\n",
            "*   **Cons:** Most expensive option, tiring for the driver, potential for traffic delays.\n",
            "*   **Travel Time:** 8-10 hours (depending on traffic and driving speed).\n",
            "*   **Estimated Cost:**\n",
            "    *   Cab (Round Trip): ₹12,000 - ₹18,000+ (depending on the car and operator)\n",
            "    *   Self-Drive: Fuel costs + toll charges + wear and tear on your vehicle.\n",
            "\n",
            "**Recommendation:** Only consider if you prioritize flexibility and door-to-door service and are comfortable with a long drive. If hiring a cab, negotiate the price beforehand.\n",
            "\n",
            "**Summary Table:**\n",
            "\n",
            "| Mode        | Travel Time      | Estimated Cost   | Pros                                     | Cons                                                    |\n",
            "| ----------- | ---------------- | ---------------- | ---------------------------------------- | ------------------------------------------------------- |\n",
            "| Flight      | 3-5 hours (total)| ₹2,500 - ₹7,000+  | Fastest                                  | Most expensive, airport travel required                 |\n",
            "| Train       | 8-12 hours       | ₹400 - ₹3500     | Comfortable, can be scenic               | Booking essential, can be slow                         |\n",
            "| Bus         | 8-10 hours       | ₹800 - ₹2000     | Affordable, frequent departures          | Can be uncomfortable, traffic delays                    |\n",
            "| Cab/Self-Drive| 8-10 hours       | ₹12,000+ (Cab)   | Door-to-door, flexible                   | Most expensive, tiring, potential traffic delays       |\n",
            "\n",
            "**To help me give you a more specific recommendation, please tell me:**\n",
            "\n",
            "*   **What is your budget?**\n",
            "*   **What are your preferred travel dates?**\n",
            "*   **What level of comfort are you looking for?**\n",
            "*   **How important is speed vs. cost?**\n",
            "\n",
            "Once I have this information, I can provide a more tailored suggestion!\n",
            "Okay, I can help you with the best travel options from Hyderabad to Bangalore. Here's a breakdown of your choices, including estimated costs and travel times:\n",
            "\n",
            "**1. Flights:**\n",
            "\n",
            "*   **Pros:** Fastest option. Many direct flights are available.\n",
            "*   **Cons:** Can be the most expensive option, especially if booking last minute. Airport transfers add to travel time and cost.\n",
            "*   **Airlines:** IndiGo, SpiceJet, Air India, Akasa Air\n",
            "*   **Estimated Flight Time:** 1 hour 15 minutes to 1 hour 30 minutes (direct flights)\n",
            "*   **Estimated Cost:** ₹2,500 - ₹7,000+ (depending on the airline, time of booking, and season)\n",
            "*   **Additional Time & Cost:** Consider travel time to and from the airports (allow at least 1-2 hours each way) and taxi/ride-sharing costs (₹500-₹1000 each way).\n",
            "\n",
            "**2. Trains:**\n",
            "\n",
            "*   **Pros:** Generally more comfortable than buses. Can be more scenic. Often a good balance of cost and time.\n",
            "*   **Cons:** Booking in advance is essential, especially for popular trains. Train schedules may not be as frequent as buses.\n",
            "*   **Popular Trains:**\n",
            "    *   **Kacheguda Yesvantpur Express (12785):**  Generally a good option.\n",
            "    *   **Kongu Express (12648):** Another popular choice.\n",
            "    *   **Other Options:**  Check IRCTC for a complete list as schedules and availability vary.\n",
            "*   **Estimated Travel Time:** 8-12 hours (depending on the train)\n",
            "*   **Estimated Cost:**\n",
            "    *   Sleeper Class: ₹400 - ₹600\n",
            "    *   3rd AC: ₹1000 - ₹1500\n",
            "    *   2nd AC: ₹1500 - ₹2200\n",
            "    *   1st AC: ₹2500 - ₹3500\n",
            "*   **Booking:**  IRCTC website or app is the official source.\n",
            "\n",
            "**3. Buses:**\n",
            "\n",
            "*   **Pros:**  Most frequent option with many operators. Can be the cheapest option if you find a good deal.\n",
            "*   **Cons:** Can be less comfortable than trains or flights, especially on overnight journeys. Traffic can significantly impact travel time.\n",
            "*   **Operators:**  Numerous private operators like Orange Tours, VRL Travels, SRS Travels, and government-run services like TSRTC.\n",
            "*   **Types of Buses:**  Sleeper, Semi-Sleeper, AC, Non-AC.  AC Sleeper buses are generally recommended for comfort.\n",
            "*   **Estimated Travel Time:** 8-12 hours (can vary significantly depending on traffic and operator)\n",
            "*   **Estimated Cost:** ₹800 - ₹2500 (depending on the bus type and operator)\n",
            "*   **Booking:**  RedBus, AbhiBus, MakeMyTrip, and the operator's websites.\n",
            "\n",
            "**4. Car (Self-Drive or Cab):**\n",
            "\n",
            "*   **Pros:**  Offers flexibility and control over your itinerary.\n",
            "*   **Cons:**  Long and tiring drive.  You'll need to factor in fuel costs, tolls, and driver charges (if hiring a cab).  Traffic in both cities can be heavy.\n",
            "*   **Estimated Travel Time:** 8-10 hours (without significant stops)\n",
            "*   **Estimated Cost:**\n",
            "    *   **Self-Drive:** ₹4,000 - ₹6,000 (fuel, tolls) + wear and tear on your vehicle.\n",
            "    *   **Cab:** ₹10,000 - ₹15,000+ (one way)\n",
            "*   **Considerations:**  Ensure you're comfortable driving long distances.  Book a reliable cab service if you choose that option.\n",
            "\n",
            "**Summary Table:**\n",
            "\n",
            "| Mode of Transport | Estimated Time | Estimated Cost | Pros | Cons |\n",
            "|--------------------|-----------------|----------------|---------------------------------|---------------------------------------------------|\n",
            "| Flight             | 3-4 hours (including airport transfers) | ₹2,500 - ₹7,000+ | Fastest | Most expensive, airport transfers needed |\n",
            "| Train              | 8-12 hours       | ₹400 - ₹3500     | Comfortable, good balance of cost and time | Advance booking essential, schedule limitations |\n",
            "| Bus                | 8-12 hours       | ₹800 - ₹2500     | Frequent, potentially cheapest | Less comfortable, traffic dependent |\n",
            "| Car                | 8-10 hours       | ₹4,000 - ₹15,000+ | Flexible | Long drive, can be tiring, expensive (cab) |\n",
            "\n",
            "**Recommendations:**\n",
            "\n",
            "*   **For the Fastest Travel:**  Flight is the best option.\n",
            "*   **For a Balance of Cost and Comfort:** Train is a good choice, especially if you book in advance.\n",
            "*   **For Budget Travel:** Bus can be the most economical, but be prepared for a potentially less comfortable journey.\n",
            "*   **For Flexibility (and if you enjoy driving):** Car is an option, but consider the fatigue factor.\n",
            "\n",
            "**To give you the *best* recommendation, I need a little more information:**\n",
            "\n",
            "*   **What is your budget?**\n",
            "*   **How important is speed versus cost?**\n",
            "*   **When are you planning to travel?** (This will affect flight and train availability and prices).\n",
            "*   **What level of comfort are you looking for?**\n",
            "\n",
            "Once I have this information, I can provide a more tailored recommendation.\n",
            "Okay, I can help you with that! Traveling from Hyderabad to Bangalore offers several options, each with its own pros and cons in terms of cost, time, and convenience. Here's a breakdown of your best options:\n",
            "\n",
            "**1. Flights:**\n",
            "\n",
            "*   **Pros:** Fastest option, multiple daily flights.\n",
            "*   **Cons:** Can be the most expensive, subject to airport delays and security procedures.\n",
            "*   **Airlines:** IndiGo, SpiceJet, Air India, Akasa Air.\n",
            "*   **Estimated Travel Time:** 1 hour 15 minutes (flight time) + travel to/from airports + check-in time.  Total: ~3-4 hours.\n",
            "*   **Estimated Cost:** ₹2,500 - ₹7,000+ (depending on the airline, time of booking, and time of year).\n",
            "\n",
            "**Recommendation:** Book in advance for better prices. Check for early morning or late-night flights, as they can sometimes be cheaper.\n",
            "\n",
            "**2. Trains:**\n",
            "\n",
            "*   **Pros:** Can be more comfortable than buses, scenic views, generally cheaper than flights.\n",
            "*   **Cons:** Travel time is longer, booking in advance is crucial, especially for popular trains and classes.\n",
            "*   **Popular Trains:**\n",
            "    *   **Kacheguda Yesvantpur Express (12785):**  A good option.\n",
            "    *   **Kongu Express (12648):** Another popular choice.\n",
            "    *   **Various other express trains.** Check IRCTC for availability.\n",
            "*   **Estimated Travel Time:** 8-12 hours (depending on the train).\n",
            "*   **Estimated Cost:**\n",
            "    *   Sleeper Class: ₹400 - ₹600\n",
            "    *   3rd AC: ₹1000 - ₹1500\n",
            "    *   2nd AC: ₹1500 - ₹2200\n",
            "    *   1st AC: ₹2500 - ₹3500\n",
            "\n",
            "**Recommendation:** Book tickets through the IRCTC website or app well in advance (at least 1-2 months if possible, especially for AC classes). Consider overnight trains to save on hotel costs.\n",
            "\n",
            "**3. Buses:**\n",
            "\n",
            "*   **Pros:** Generally cheaper than flights, a good number of operators and timings available.\n",
            "*   **Cons:** Can be less comfortable than trains or flights, travel time is longer and can be affected by traffic.\n",
            "*   **Operators:**  SRS Travels, Orange Tours and Travels, VRL Travels, KSRTC (Karnataka State Road Transport Corporation), and many private operators.\n",
            "*   **Types of Buses:**  Sleeper, Semi-Sleeper, AC, Non-AC.\n",
            "*   **Estimated Travel Time:** 8-10 hours.\n",
            "*   **Estimated Cost:** ₹800 - ₹2500 (depending on the bus type and operator).\n",
            "\n",
            "**Recommendation:** Check reviews of bus operators before booking.  Sleeper buses are a good option for overnight travel. Book through reliable online platforms like RedBus, AbhiBus, or directly with the operator.\n",
            "\n",
            "**4. Cab/Self-Drive:**\n",
            "\n",
            "*   **Pros:** Flexibility in terms of departure time and stops along the way.\n",
            "*   **Cons:** Can be tiring for the driver, expensive if you are hiring a cab for the entire journey.\n",
            "*   **Estimated Travel Time:** 8-10 hours (driving time, excluding stops).\n",
            "*   **Estimated Cost:**\n",
            "    *   Cab: ₹8,000 - ₹12,000+ (one way).\n",
            "    *   Self-Drive: Fuel costs + toll charges + wear and tear on your vehicle.  Fuel could be around ₹4,000 - ₹6,000.\n",
            "\n",
            "**Recommendation:** Only consider this if you enjoy driving long distances and have a comfortable car.  Ensure you are well-rested before starting the journey.\n",
            "\n",
            "**Summary Table:**\n",
            "\n",
            "| Option     | Travel Time  | Estimated Cost | Pros                                                                 | Cons                                                                     |\n",
            "|------------|--------------|----------------|----------------------------------------------------------------------|--------------------------------------------------------------------------|\n",
            "| Flight     | 3-4 hours    | ₹2,500 - ₹7,000+| Fastest                                                              | Most expensive, airport hassles                                          |\n",
            "| Train      | 8-12 hours   | ₹400 - ₹3500   | Comfortable, scenic, generally cheaper than flights                  | Long travel time, booking in advance is crucial                             |\n",
            "| Bus        | 8-10 hours   | ₹800 - ₹2500   | Cheaper than flights, many operators                                 | Less comfortable, affected by traffic                                      |\n",
            "| Cab/Self-Drive | 8-10 hours   | ₹4,000 - ₹12,000+ | Flexible                                                               | Tiring, can be expensive                                                  |\n",
            "\n",
            "**To help me give you the *best* recommendation, could you tell me:**\n",
            "\n",
            "*   **What is your budget?**\n",
            "*   **How important is travel time to you?**\n",
            "*   **What dates are you planning to travel?** (This will help me check for specific prices and availability).\n",
            "*   **What level of comfort are you looking for?**\n",
            "\n",
            "Once I have this information, I can provide a more tailored recommendation!\n"
          ]
        }
      ]
    },
    {
      "cell_type": "code",
      "source": [],
      "metadata": {
        "id": "Wlp00IXDeBe5"
      },
      "execution_count": null,
      "outputs": []
    }
  ]
}