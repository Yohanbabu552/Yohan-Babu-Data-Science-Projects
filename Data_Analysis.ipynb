{
  "nbformat": 4,
  "nbformat_minor": 0,
  "metadata": {
    "colab": {
      "provenance": [],
      "authorship_tag": "ABX9TyMwnbkIpNXf4kpLFQ00CFqq"
    },
    "kernelspec": {
      "name": "python3",
      "display_name": "Python 3"
    },
    "language_info": {
      "name": "python"
    }
  },
  "cells": [
    {
      "cell_type": "markdown",
      "source": [
        "## Market Trends in Home Decor and Lifestyle Sector\n",
        "### Key Trends:\n",
        "\n",
        "\n",
        "1.  Sustainable and Eco-Friendly Products – Increased demand for sustainable materials, energy-efficient decor, and eco-conscious production\n",
        "2.   Minimalist and Smart Home Integration – Growth in minimalist design aesthetics and smart home devices influencing decor choice\n",
        "\n",
        "3.  Personalized and Customizable Decor – Rise in demand for personalized home accessories, DIY customization, and modular furniture.\n",
        "4.  E-Commerce Dominance – More consumers prefer online platforms for home decor purchases, emphasizing digital presence.\n",
        "\n",
        "\n",
        "5.  Influence of Social Media and Influencers – Platforms like Instagram and Pinterest shape consumer preferences.\n",
        "\n",
        "\n",
        "\n",
        "\n",
        "\n"
      ],
      "metadata": {
        "id": "h956Z0X7tQ-O"
      }
    },
    {
      "cell_type": "markdown",
      "source": [
        "## Top Competitors\n",
        "### Competitor-->\tMarket Strategy\n",
        "\n",
        "*   IKEA -->\tCost-effective, modular, DIY furniture, strong sustainability initiatives\n",
        "*   West Elm -->\tHigh-end, sustainable, personalized home decor items\n",
        "\n",
        "*   Wayfair-->\tExtensive online presence, AI-powered recommendations, free shipping incentives\n",
        "*   Home Depot-->\tIn-store + online hybrid experience, DIY support, contractor collaborations\n",
        "\n",
        "*   Amazon (Home & Kitchen)-->\tCompetitive pricing, vast product variety, fast shipping, subscription models\n",
        "\n",
        "\n"
      ],
      "metadata": {
        "id": "VR4oU3IIuSp1"
      }
    },
    {
      "cell_type": "markdown",
      "source": [
        "### Factors Influencing Customer Purchasing Decisions:\n",
        "\n",
        "\n",
        "1.   Price Sensitivity – Customers look for affordable yet stylish options\n",
        "\n",
        "2.   Quality & Durability – Long-lasting and functional products gain preference.\n",
        "\n",
        "3.   Aesthetic Appeal & Customization – Personalized options attract customers.\n",
        "\n",
        "4.   Brand Trust & Reviews – Positive social proof and influencer recommendations impact sales.\n",
        "5.   Availability & Convenience – Online availability, fast delivery, and return policies matter.\n",
        "\n"
      ],
      "metadata": {
        "id": "lGap6Ig2wzk3"
      }
    },
    {
      "cell_type": "markdown",
      "source": [
        "Data Collection & Analysis\n",
        "1. Onboarding Data for Analysis & Setting Up Systematic Feeds\n",
        "To collect customer behavior data, we can extract data from:\n",
        "\n",
        "Web Scraping (e.g., BeautifulSoup, Scrapy for competitor pricing, customer reviews)\n",
        "Google Trends & Social Media Analysis (API-based insights on trending decor items)\n",
        "E-commerce Data (via APIs like Amazon, Wayfair)\n",
        "Survey Data (Customer preferences via Google Forms or Typeform)\n",
        "Example: Web Scraping Competitor Prices from Wayfair"
      ],
      "metadata": {
        "id": "giVUdyt4xzY5"
      }
    },
    {
      "cell_type": "code",
      "source": [
        "import requests\n",
        "from bs4 import BeautifulSoup\n",
        "\n",
        "url = \"https://www.wayfair.com/furniture/sale\"\n",
        "headers = {\"User-Agent\": \"Mozilla/5.0\"}\n",
        "\n",
        "response = requests.get(url, headers=headers)\n",
        "soup = BeautifulSoup(response.content, \"html.parser\")\n",
        "\n",
        "for product in soup.find_all('div', class_='ProductCard'):\n",
        "    name = product.find('div', class_='ProductTitle').text.strip()\n",
        "    price = product.find('span', class_='Price').text.strip()\n",
        "    print(f\"Product: {name}, Price: {price}\")\n"
      ],
      "metadata": {
        "id": "kcn6Ni5Zx9Jk"
      },
      "execution_count": null,
      "outputs": []
    },
    {
      "cell_type": "markdown",
      "source": [
        "2. Insights & Actionable Recommendations for Product Optimization\n",
        "Product Demand Analysis:\n",
        "Identify top-selling home decor items.\n",
        "Monitor seasonal trends (e.g., festive sales spikes).\n",
        "Competitor Pricing Strategy:\n",
        "Price elasticity insights—adjust pricing based on demand-supply trends.\n",
        "Customer Sentiment Analysis:\n",
        "NLP-based text analysis on reviews to gauge brand perception.\n",
        "Example: Sentiment Analysis of Customer Reviews"
      ],
      "metadata": {
        "id": "FY50Km9UyBb4"
      }
    },
    {
      "cell_type": "code",
      "source": [
        "from textblob import TextBlob\n",
        "\n",
        "reviews = [\"I love this product, very stylish!\", \"Terrible quality, broke in 2 days.\"]\n",
        "for review in reviews:\n",
        "    sentiment = TextBlob(review).sentiment.polarity\n",
        "    print(f\"Review: {review} | Sentiment Score: {sentiment}\")\n"
      ],
      "metadata": {
        "id": "4rlaJYiMyGr2"
      },
      "execution_count": null,
      "outputs": []
    },
    {
      "cell_type": "markdown",
      "source": [
        "3. Visualizing Findings & Recommendations\n",
        "Example: Competitor Price Comparison (Matplotlib + Seaborn)\n"
      ],
      "metadata": {
        "id": "GvfQJ_TGyJDH"
      }
    },
    {
      "cell_type": "code",
      "source": [
        "import matplotlib.pyplot as plt\n",
        "import seaborn as sns\n",
        "import pandas as pd\n",
        "\n",
        "# Sample data\n",
        "data = {'Brand': ['IKEA', 'West Elm', 'Wayfair', 'Home Depot', 'Amazon'],\n",
        "        'Average Price ($)': [150, 250, 180, 200, 170]}\n",
        "\n",
        "df = pd.DataFrame(data)\n",
        "\n",
        "# Plot\n",
        "plt.figure(figsize=(8,5))\n",
        "sns.barplot(x=\"Brand\", y=\"Average Price ($)\", data=df, palette=\"coolwarm\")\n",
        "plt.title(\"Competitor Price Comparison\")\n",
        "plt.show()\n"
      ],
      "metadata": {
        "id": "avWBuHV5ySto"
      },
      "execution_count": null,
      "outputs": []
    },
    {
      "cell_type": "code",
      "source": [
        "from wordcloud import WordCloud\n",
        "import matplotlib.pyplot as plt\n",
        "\n",
        "text = \"stylish durable affordable modern trendy comfortable eco-friendly\"\n",
        "wordcloud = WordCloud(width=800, height=400, background_color='white').generate(text)\n",
        "\n",
        "plt.figure(figsize=(8,4))\n",
        "plt.imshow(wordcloud, interpolation=\"bilinear\")\n",
        "plt.axis(\"off\")\n",
        "plt.show()\n"
      ],
      "metadata": {
        "id": "c_vBSOhSyX-K"
      },
      "execution_count": null,
      "outputs": []
    },
    {
      "cell_type": "markdown",
      "source": [
        "### Final Recommendations\n",
        "Enhance Digital Presence: Utilize influencer marketing & social media trends for brand awareness.\n",
        "Optimize Pricing Strategy: Use dynamic pricing based on competitor insights & customer behavior.\n",
        "Expand Sustainable Product Line: Focus on eco-friendly materials & customizable decor.\n",
        "Improve Customer Experience: Leverage AI chatbots for personalized recommendations."
      ],
      "metadata": {
        "id": "kZT3j_G2ybJl"
      }
    }
  ]
}